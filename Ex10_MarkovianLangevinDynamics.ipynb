{
 "cells": [
  {
   "cell_type": "markdown",
   "metadata": {},
   "source": [
    "# Exercise 10 :\n",
    "# Markovian Langevin Dynamics\n",
    "\n",
    "* Léa Beaules\n",
    "* 28 January 2021"
   ]
  },
  {
   "cell_type": "code",
   "execution_count": 13,
   "metadata": {},
   "outputs": [],
   "source": [
    "%matplotlib inline\n",
    "import matplotlib.pyplot as plt\n",
    "from matplotlib import animation, rc\n",
    "from IPython.display import HTML\n",
    "import random\n",
    "import copy\n",
    "import numpy as np\n",
    "import scipy as scy\n",
    "from tqdm.notebook import trange, tqdm\n",
    "import time \n",
    "from scipy.stats import maxwell\n",
    "\n",
    "#used for the video\n",
    "import subprocess\n",
    "import glob\n",
    "import os"
   ]
  },
  {
   "cell_type": "markdown",
   "metadata": {},
   "source": [
    "## Introduction \n",
    "\n",
    "We simulate 50 particles in a box (5nmx5nm) with periodic boundary condictions. The particules interact with each other via the lLennard-Jones potential and the velocities and positions are calculated with the Velocity Verlet integrator and van der Waals forces. Because this type of simulations causes the artificial generation of excess heat we add in the simulation the Berendsen thermostat, which keeps the total energy of the system constant instead of artificially increasing. In the last exercice we calculated the autocorrelation function as well as the Stokes friction coefficient.\n",
    "\n",
    "The specificity of this simulation is that out of the 50 particles, two of them (1st and 50th) are bound to each other in such a way that their distance in constant over time. They will start with an initial velocity = 0, and at each time step we cancel out the contibution of the force along their connecting vector (by appliying a \"Constraint force\").\n",
    "\n",
    "We will finally calculate the Free energy of thoses two particles and compare it the their potential energy. And similarly to the last exercice we calculate the constraint force autocorrelation function as well as the Stokes friction coefficient. And compare them to previous results.\n"
   ]
  },
  {
   "cell_type": "markdown",
   "metadata": {},
   "source": [
    "## Task I: Implementation of Markovian Langevin dynamics"
   ]
  },
  {
   "cell_type": "markdown",
   "metadata": {},
   "source": [
    "LE integrator :\n",
    "$ \\vec{v_{k+1}} = \\vec{v_{k}} - \\frac{1}{m}(\\frac{d\\vec{U_{k}}}{d\\vec{x_{k}}} \\Delta t + \\vec{v_{k}} \\Gamma \\Delta t - \\sqrt{2\\Gamma k_{b}T \\Delta t}R_{k}) $\n",
    "\n",
    "Knowing that for this simulation our potential U is to be equal everywhere, we get : $\\frac{d\\vec{U_{k}}}{d\\vec{x_{k}}} = 0 $, therefor for simplification we won't have this term in our function and we will implement :\n",
    "\n",
    "$$  \\vec{v_{k+1}} = \\vec{v_{k}} - \\frac{N_{a}}{m}( \\vec{v_{k}} \\Gamma \\Delta t - \\sqrt{2*10^{3} \\Gamma k_{b}T\\Delta t}R_{k}) $$\n",
    "\n",
    "Constant troughout the simulation :\n",
    "* $\\Delta t$ : time step length\n",
    "* $\\Gamma$ : friction constant\n",
    "* $k_{b}$ : Bolzmann connstant\n",
    "* $T$ : Temperature\n",
    "\n",
    "Changing at each step k :\n",
    "* $R_{k}$ : is a normally distributed stochastic process\n",
    "* $v_{k}$ : velocity"
   ]
  },
  {
   "cell_type": "code",
   "execution_count": 38,
   "metadata": {},
   "outputs": [],
   "source": [
    "def LE_integrator (v_k_vec):\n",
    "    v_k_x = v_k_vec[0]\n",
    "    v_k_y = v_k_vec[1]\n",
    "    \n",
    "    # Simulating a kick on the particle with random direction\n",
    "    R_k = np.random.standard_normal(1)\n",
    "    R_k_angle = np.random.uniform(0,2*np.pi)\n",
    "    R_kx = np.sin(R_k_angle)*R_k\n",
    "    R_ky = np.cos(R_k_angle)*R_k\n",
    "    \n",
    "    v_k1_x = v_k_x - Na/mass * (v_k_x*Gamma*Dlt_t_s - np.sqrt(2*Gamma*k_b*Temp*Dlt_t_s) * R_kx)\n",
    "    v_k1_y = v_k_y - Na/mass * (v_k_y*Gamma*Dlt_t_s - np.sqrt(2*Gamma*k_b*Temp*Dlt_t_s) * R_ky)\n",
    "    \n",
    "    #print(- Na/mass * (v_k_y*Gamma*Dlt_t_s - np.sqrt(2*Gamma*k_b*Temp*Dlt_t_s) * R_ky))\n",
    "    \n",
    "    return [v_k1_x, v_k1_y]"
   ]
  },
  {
   "cell_type": "markdown",
   "metadata": {},
   "source": [
    "## Task II : LE Simulation"
   ]
  },
  {
   "cell_type": "markdown",
   "metadata": {},
   "source": [
    "Simulation of 50 particules in a 5x5nm box (with PBC), with 2 having a constant distance between each other.  \\\n",
    "The interparticle interaction is modeled as a Lennard-Jones potential. \\\n",
    "The Velocity Verlet integrator is used to calculate the motion of the particles.\n",
    "The following constant are used :"
   ]
  },
  {
   "cell_type": "code",
   "execution_count": 15,
   "metadata": {},
   "outputs": [],
   "source": [
    "box = (5,5)#nm²\n",
    "\n",
    "#1.000.000 total time steps in the simulation\n",
    "steps = 100000\n",
    "\n",
    "#Number of particles in the box\n",
    "Particule_Nbr = 1\n",
    "mass = 18 #g/mol\n",
    "\n",
    "#Time step (2*e-6 in nm)\n",
    "Dlt_t = 2e-6 #ns = 1fs\n",
    "Dlt_t_s = 2e-15#in second\n",
    "\n",
    "#Fricction constant \n",
    "Gamma = 2.1e-13\n",
    "\n",
    "k_b_mol = 8.314462 #J⋅K^(-1).mol^(-1)\n",
    "k_b = 1.380649e-23 #J.K-1\n",
    "\n",
    "Na = 6.02214086e23 #mol-1\n",
    "Temp = 293.15 #K\n",
    "\n",
    "\n",
    "time_list_plot = np.linspace(0,steps,steps)"
   ]
  },
  {
   "cell_type": "markdown",
   "metadata": {},
   "source": [
    "**Position** \\\n",
    "The potential U is assumed to be constant so there is no acceleration on our particle. \n",
    "\n",
    "$x_{k+1} = x_{k} + v_{k} \\Delta t$ \n"
   ]
  },
  {
   "cell_type": "code",
   "execution_count": 16,
   "metadata": {},
   "outputs": [],
   "source": [
    "def position (x_k, v_k, Dlt_t):\n",
    "    x_k1 = x_k + v_k*Dlt_t\n",
    "    return x_k1"
   ]
  },
  {
   "cell_type": "markdown",
   "metadata": {},
   "source": [
    "**Velocity** \\\n",
    "Here : \\\n",
    "$v_{k+1} = v_{k} + \\frac{1}{2}( a_{k} + a_{k+1} ) \\Delta t$ \\\n",
    "is not used anymore but the LE integrator is used instead to calculate the velocity"
   ]
  },
  {
   "cell_type": "markdown",
   "metadata": {},
   "source": [
    "**Kinetic energy**\n",
    "\n",
    "$E_{kin} = \\frac{1}{2} m <v^{2}>$"
   ]
  },
  {
   "cell_type": "code",
   "execution_count": 17,
   "metadata": {},
   "outputs": [],
   "source": [
    "def Kinetic(Data_traj_list, time_t):\n",
    "    K_list = []\n",
    "    for p_ind in range (Particule_Nbr):\n",
    "        p_vx = Data_traj_list[p_ind][2,time_t]\n",
    "        p_vy = Data_traj_list[p_ind][3,time_t]\n",
    "        v = np.sqrt(p_vx**2 + p_vy**2)\n",
    "        K_list += [v**2]\n",
    "    K = (1/2)*mass*np.mean(K_list)\n",
    "    K = K * 10**(-3) #unit convertion into J/mol\n",
    "    \n",
    "    return K"
   ]
  },
  {
   "cell_type": "markdown",
   "metadata": {},
   "source": [
    "**Plot the simulation**"
   ]
  },
  {
   "cell_type": "code",
   "execution_count": 18,
   "metadata": {},
   "outputs": [],
   "source": [
    "def plot(t):\n",
    "    for parti in range (Particule_Nbr):\n",
    "        data_traj = Data_traj_list[parti]\n",
    "        #Particule = Particules_list[parti]\n",
    "        c = 'indigo'\n",
    "        if parti ==0 or parti == 49:\n",
    "            c = 'cadetblue'\n",
    "\n",
    "        plt.plot(data_traj[0,t],data_traj[1,t], marker='.', markersize='10',  linestyle = '-', color=c) "
   ]
  },
  {
   "cell_type": "code",
   "execution_count": 19,
   "metadata": {},
   "outputs": [],
   "source": [
    "def plot(data_traj):\n",
    "\n",
    "    x = data_traj[0,:]\n",
    "    y = data_traj[1,:]\n",
    "    \n",
    "\n",
    "    c = 'indigo'\n",
    "    plt.plot(x,y, marker='.', markersize='3',  linestyle = 'None', color = c)   \n",
    "\n",
    "    plt.xlabel('position x')\n",
    "    plt.ylabel('position y')\n",
    "    plt.xlim(0,5)\n",
    "    plt.ylim(0,5)\n",
    "\n",
    "    Titles_graph1 = 'Simulation with ' + str(steps) + 'steps'\n",
    "    plt.title(Titles_graph1)\n",
    "    plt.show()\n",
    "\n",
    "    return (x,y)"
   ]
  },
  {
   "cell_type": "markdown",
   "metadata": {},
   "source": [
    "**Initialise simulation** \n",
    "\n",
    "The particle is placed at a random position in the box, and has an initial velocity coresponding to the thermal velocity for T=293.15 K ( $v_{0} = \\sqrt{ \\frac{k_{b}T}{m}} = 11.636 m.s^{-1}$) and starts with a random direction.\n",
    "\n",
    "We store the trajectory and velocity for each step of the siimulation in the array : Data_traj_list. \\\n",
    "First indice :\n",
    "* 0 : x position in x\n",
    "* 1 : y position in y\n",
    "* 2 : vx velocity along x\n",
    "* 3 : vy velocity along y\n",
    "\n",
    "Second indice refers to the time step."
   ]
  },
  {
   "cell_type": "code",
   "execution_count": 20,
   "metadata": {},
   "outputs": [
    {
     "name": "stdout",
     "output_type": "stream",
     "text": [
      "11.636591079913014\n"
     ]
    }
   ],
   "source": [
    "print(np.sqrt(k_b_mol * Temp / mass))"
   ]
  },
  {
   "cell_type": "code",
   "execution_count": 21,
   "metadata": {},
   "outputs": [],
   "source": [
    "def Particules_initialise (Particule_Nbr, steps):    \n",
    "    \n",
    "    Data_traj_list = np.zeros((4,steps))\n",
    "    \n",
    "    #Initial velocities : Thermal velocity with random direction\n",
    "    vel = np.sqrt(k_b_mol * Temp / mass *10e-3)\n",
    "    angle = np.random.uniform(0,2*np.pi)\n",
    "    vx = np.sin(angle)*vel\n",
    "    vy = np.cos(angle)*vel\n",
    "\n",
    "    #Ramdom initial position\n",
    "    x = np.random.uniform(0,box[0])\n",
    "    y = np.random.uniform(0,box[1])\n",
    "\n",
    "    Data_traj_list[:,0] = [x, y, vx, vy] #[data type, time step]\n",
    "\n",
    "    return  Data_traj_list"
   ]
  },
  {
   "cell_type": "markdown",
   "metadata": {},
   "source": [
    "**Run Simulation**\n",
    "\n",
    "At the start of the simulation we already have the initial positions and velocities calculated. At each step we calculate : \\\n",
    "* Position at time t+1\n",
    "* Velocities at time t+1 : with the LE integrator\n",
    "* Storing both the velocities and position into our array\n",
    "\n"
   ]
  },
  {
   "cell_type": "code",
   "execution_count": 22,
   "metadata": {},
   "outputs": [],
   "source": [
    "def RUN ():\n",
    "    check = []\n",
    "    check2 = []\n",
    "    \n",
    "    for i in trange (0,steps-1,desc= 'Run the simulation'): \n",
    "        \n",
    "        Data_t = Data_traj_list[:,i]\n",
    "        \n",
    "        #calculat⋅ing the position and implementing the periodic boundary conditions\n",
    "        x_1 = position (Data_t[0], Data_t[2], Dlt_t)%box[0]\n",
    "        y_1 = position (Data_t[1], Data_t[3], Dlt_t)%box[1]\n",
    "        \n",
    "        v1_vec = LE_integrator([Data_t[2], Data_t[3]])\n",
    "        \n",
    "        # adding the particule position and velocity into the array\n",
    "        Data_traj_list[0,i+1] = x_1\n",
    "        Data_traj_list[1,i+1] = y_1     \n",
    "        Data_traj_list[2,i+1] = v1_vec[0]\n",
    "        Data_traj_list[3,i+1] = v1_vec[1]\n",
    "  \n",
    "        check += [ v1_vec[0] ]\n",
    "        check2 += [v1_vec[1]]\n",
    "    return Data_traj_list, check, check2"
   ]
  },
  {
   "cell_type": "code",
   "execution_count": 39,
   "metadata": {},
   "outputs": [
    {
     "data": {
      "application/vnd.jupyter.widget-view+json": {
       "model_id": "43b80d417f63478b89216029b5b6dc7a",
       "version_major": 2,
       "version_minor": 0
      },
      "text/plain": [
       "HBox(children=(FloatProgress(value=0.0, description='Run the simulation', max=99999.0, style=ProgressStyle(des…"
      ]
     },
     "metadata": {},
     "output_type": "display_data"
    },
    {
     "name": "stdout",
     "output_type": "stream",
     "text": [
      "\n"
     ]
    }
   ],
   "source": [
    "Data_traj_list = Particules_initialise (Particule_Nbr, steps)\n",
    "Data_traj_list, check, check2 = RUN()"
   ]
  },
  {
   "cell_type": "code",
   "execution_count": 40,
   "metadata": {},
   "outputs": [
    {
     "data": {
      "image/png": "[encoded data removed]",
      "text/plain": [
       "<Figure size 432x288 with 1 Axes>"
      ]
     },
     "metadata": {
      "needs_background": "light"
     },
     "output_type": "display_data"
    }
   ],
   "source": [
    "plt.plot(time_list_plot[0:-1], check)\n",
    "plt.plot(time_list_plot[0:-1], check2, alpha = 1)\n",
    "plt.plot([time_list_plot[0],time_list_plot[-1]], [np.mean(check), np.mean(check)], color ='blue')\n",
    "plt.plot([time_list_plot[0],time_list_plot[-1]], [np.mean(check2), np.mean(check2)], color ='Orange')\n",
    "total_mean = np.sqrt(np.mean(check)**2+np.mean(check2)**2)\n",
    "plt.plot([time_list_plot[0],time_list_plot[-1]], [total_mean, total_mean], linestyle='--', color ='Black')\n",
    "\n",
    "plt.xlabel('time')\n",
    "plt.ylabel('Velocity')\n",
    "\n",
    "plt.title('Velocity over time')\n",
    "plt.show()"
   ]
  },
  {
   "cell_type": "code",
   "execution_count": 41,
   "metadata": {},
   "outputs": [
    {
     "data": {
      "image/png": "[encoded data removed]",
      "text/plain": [
       "<Figure size 432x288 with 1 Axes>"
      ]
     },
     "metadata": {
      "needs_background": "light"
     },
     "output_type": "display_data"
    }
   ],
   "source": [
    "x, y =plot(Data_traj_list)"
   ]
  },
  {
   "cell_type": "markdown",
   "metadata": {},
   "source": [
    "### Video"
   ]
  },
  {
   "cell_type": "code",
   "execution_count": null,
   "metadata": {},
   "outputs": [],
   "source": [
    "def creat_files():\n",
    "    os.chdir(\"Image_storing_video\")\n",
    "\n",
    "    #def plot_simulation (Particule_Nbr, Data_traj_list, Particules_list):\n",
    "    for t in trange (steps) :\n",
    "        for parti in range (Particule_Nbr):\n",
    "            data_traj = Data_traj_list[parti]\n",
    "           \n",
    "            c = 'indigo'\n",
    "            if parti ==0 or parti == 49:\n",
    "                c = 'cadetblue'\n",
    "            plt.plot(data_traj[0,t],data_traj[1,t], marker='.', markersize='10',  linestyle = '-', color = c)\n",
    "\n",
    "            plt.xlabel('position x')\n",
    "            plt.ylabel('position y')\n",
    "            plt.xlim(0,box[0])\n",
    "            plt.ylim(0,box[1])\n",
    "        plt.savefig(\"File%02d.png\" % t)\n",
    "        #plt.show()\n",
    "        #plt.savefig(\"file.png\")\n",
    "        plt.close()\n",
    "\n",
    "\n",
    "\n",
    "    Titles_graph1 = 'Example of one of the simulation of ' + str(Particule_Nbr)+ ' particules, with' + str(steps) + 'steps'\n",
    "    plt.title(Titles_graph1)\n",
    "    os.chdir(\"../\")"
   ]
  },
  {
   "cell_type": "code",
   "execution_count": null,
   "metadata": {},
   "outputs": [],
   "source": [
    "def creat_video():\n",
    "    os.chdir(\"Image_storing_video\")\n",
    "    \n",
    "    subprocess.call(['ffmpeg', '-framerate', '5', '-i', 'File%02d.png', '-r', '30', '-pix_fmt', 'yuv420p', 'Contagion08.mp4'])\n",
    "    #subprocess.call(['ffmpeg', '-framerate', '8', '-i', Titles_files, '-r', '30', '-pix_fmt', 'yuv420p', Filename])\n",
    "\n",
    "    \n",
    "    for file_name in glob.glob(\"*.png\"):\n",
    "        os.remove(file_name)\n",
    "\n",
    "    os.chdir(\"../\")"
   ]
  },
  {
   "cell_type": "code",
   "execution_count": null,
   "metadata": {},
   "outputs": [],
   "source": [
    "'''\n",
    "retval = os.getcwd()\n",
    "print (\"Current working directory %s\" % retval)\n",
    "creat_files()\n",
    "creat_video()\n",
    "'''"
   ]
  },
  {
   "cell_type": "markdown",
   "metadata": {},
   "source": [
    "## Task III: Determination of diffusion coefficient"
   ]
  },
  {
   "cell_type": "markdown",
   "metadata": {},
   "source": [
    "**Diffusion coefficient :**\n",
    "$$ D = \\frac{\\Delta \\vec{x}(t)^{2} }{4t} $$\n",
    "\n",
    "with $ \\Delta \\vec{x}(t) ^2 = (\\vec{x}(t) − \\vec{x}(t_{0}) )^2 = \\Delta x_{x}(t)^2 + \\Delta x_{y}(t)^2$"
   ]
  },
  {
   "cell_type": "code",
   "execution_count": 58,
   "metadata": {},
   "outputs": [],
   "source": [
    "def Diff_coef_old(t):\n",
    "    D_x = (Data_traj_list[0,t] - Data_traj_list[0,0])**2 / 4*t\n",
    "    D_y = (Data_traj_list[1,t] - Data_traj_list[1,0])**2 / 4*t\n",
    "    return [D_x,D_y]"
   ]
  },
  {
   "cell_type": "code",
   "execution_count": 66,
   "metadata": {},
   "outputs": [],
   "source": [
    "def Diff_coef(t):\n",
    "    Dlt_x = Data_traj_list[0,t] - Data_traj_list[0,0]\n",
    "    Dlt_y = Data_traj_list[1,t] - Data_traj_list[1,0]\n",
    "    D = (Dlt_x**2 + Dlt_y**2)/(4*t)\n",
    "    Dltx = (Dlt_x**2 + Dlt_y**2)\n",
    "    return D, Dltx"
   ]
  },
  {
   "cell_type": "markdown",
   "metadata": {},
   "source": [
    "**Fricction coefficient**\n",
    "$$ \\Gamma = \\frac{k_{b} T}{D}$$"
   ]
  },
  {
   "cell_type": "code",
   "execution_count": 45,
   "metadata": {},
   "outputs": [],
   "source": [
    "def Fric_coef(D):\n",
    "    Gamma = k_b * Temp / D\n",
    "    return Gamma"
   ]
  },
  {
   "cell_type": "markdown",
   "metadata": {},
   "source": [
    "**Calculation for LE simulation**"
   ]
  },
  {
   "cell_type": "code",
   "execution_count": 67,
   "metadata": {},
   "outputs": [
    {
     "data": {
      "application/vnd.jupyter.widget-view+json": {
       "model_id": "62867898a23c4552a0f28ca61a1b45e6",
       "version_major": 2,
       "version_minor": 0
      },
      "text/plain": [
       "HBox(children=(FloatProgress(value=0.0, max=99999.0), HTML(value='')))"
      ]
     },
     "metadata": {},
     "output_type": "display_data"
    },
    {
     "name": "stderr",
     "output_type": "stream",
     "text": [
      "<ipython-input-66-ec1e13f39396>:4: RuntimeWarning: invalid value encountered in double_scalars\n",
      "  D = (Dlt_x**2 + Dlt_y**2)/(4*t)\n"
     ]
    },
    {
     "name": "stdout",
     "output_type": "stream",
     "text": [
      "\n"
     ]
    }
   ],
   "source": [
    "D_list = []\n",
    "Dltx_list = []\n",
    "\n",
    "for t in trange(steps-1):\n",
    "    #print(t)\n",
    "    D, Dltx = Diff_coef(t)\n",
    "    D_list += [D]\n",
    "    Dltx_list += [Dltx]"
   ]
  },
  {
   "cell_type": "markdown",
   "metadata": {},
   "source": [
    "**Analysis of the evolution of $\\Delta x^{2}$**\n",
    "\n",
    "We can clearly see that for small values of t ( $<62000$ ),  $\\Delta x^{2}$ is propotional to $t^{2}$. And after that the particle follows a diffusive behavior. "
   ]
  },
  {
   "cell_type": "code",
   "execution_count": 83,
   "metadata": {},
   "outputs": [],
   "source": [
    "t_sqrd = []\n",
    "for t in time_list_plot:\n",
    "    t_sqrd += [t**2 * 1.75/60000**2 - 0.2]"
   ]
  },
  {
   "cell_type": "code",
   "execution_count": 94,
   "metadata": {},
   "outputs": [
    {
     "data": {
      "image/png": "[encoded data removed]",
      "text/plain": [
       "<Figure size 432x288 with 1 Axes>"
      ]
     },
     "metadata": {
      "needs_background": "light"
     },
     "output_type": "display_data"
    }
   ],
   "source": [
    "plt.plot(time_list_plot[:-1], Dltx_list, label ='Delta_x^2')\n",
    "plt.plot(time_list_plot[:-1], t_sqrd[:-1], label = '∝ t^2')\n",
    "plt.plot([62000,62000], [t_sqrd[0],t_sqrd[-1]],linestyle='--', color='Black', label='t=62000')\n",
    "plt.legend()\n",
    "a=plt.title('Detla_x^2 propotional to t^2 at small t')"
   ]
  },
  {
   "cell_type": "markdown",
   "metadata": {},
   "source": [
    "**Interpretation of the results**"
   ]
  },
  {
   "cell_type": "markdown",
   "metadata": {},
   "source": [
    "**Similarities between the two curves**\n",
    "* $R_{i}$ < 0.4 \\\n",
    "For values of $R_{i}$ smaller then the 'equilibrium distance', corresponding to the minimum of the Lennard Jones potential curve : $R_{equ} = 0.435nm$ our particle are constraint to a distance at which they are repulsing eachother away. According to the Lennard Jones potential tocloser they are the stronger the repulsive force is, therefore we get a strong constraint force for small values of $R_{i}$.\n",
    "\n",
    "* $R_{i}$ ~ 0.4 \\\n",
    "When the constaint disance is close to the 'equilibrium distance', the constaint force is also at it's minimum.\n",
    "\n",
    "* $R_{i}$ > 0.4 \\\n",
    "The further away the particles are from each other, the weaker the interactionbetween each other gets. But because our simulation bow is full of other particles they have a higher probability to be close to the other particles. Which means the contraint foce increase.\n",
    "\n",
    "**Differences** \n",
    "* Because we are not calculating the force only bewteen the two constraint particles, but also with the surounding ones, the constraint force has usually larger values then the Lennard Jones potential.\n",
    "* The The constraint force is less 'smoth' because we are calculating from a reduced sample of values for $R_{i}$. And also because the the initial parameters of each simulations can differ as they are chosen randomly, for example the 50th particle can be placed very close to another particle at t=0 which will lead to an overall larger constraint force.\n",
    "\n",
    "There may be a problem of order of magnitude, as I tried to convert both energies into J/mol but my Free energy (and my constraint force) seem to have too hight powers of 10. Thismay cause wrong order of magnitude for the following calculations as well, paticularly for the coefficient of friction.\n"
   ]
  },
  {
   "cell_type": "code",
   "execution_count": null,
   "metadata": {},
   "outputs": [],
   "source": []
  }
 ],
 "metadata": {
  "kernelspec": {
   "display_name": "Python 3",
   "language": "python",
   "name": "python3"
  },
  "language_info": {
   "codemirror_mode": {
    "name": "ipython",
    "version": 3
   },
   "file_extension": ".py",
   "mimetype": "text/x-python",
   "name": "python",
   "nbconvert_exporter": "python",
   "pygments_lexer": "ipython3",
   "version": "3.8.3"
  }
 },
 "nbformat": 4,
 "nbformat_minor": 4
}
